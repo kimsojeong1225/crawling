{
  "nbformat": 4,
  "nbformat_minor": 0,
  "metadata": {
    "colab": {
      "name": "주가 조회.ipynb의 사본",
      "provenance": [],
      "collapsed_sections": [],
      "include_colab_link": true
    },
    "kernelspec": {
      "name": "python3",
      "display_name": "Python 3"
    }
  },
  "cells": [
    {
      "cell_type": "markdown",
      "metadata": {
        "id": "view-in-github",
        "colab_type": "text"
      },
      "source": [
        "<a href=\"https://colab.research.google.com/github/kimsojeong1225/crawling/blob/master/%EC%A3%BC%EA%B0%80_%EC%A1%B0%ED%9A%8C_ipynb%EC%9D%98_%EC%82%AC%EB%B3%B8.ipynb\" target=\"_parent\"><img src=\"https://colab.research.google.com/assets/colab-badge.svg\" alt=\"Open In Colab\"/></a>"
      ]
    },
    {
      "cell_type": "code",
      "metadata": {
        "id": "vt1ycKLNKOYS",
        "colab_type": "code",
        "colab": {}
      },
      "source": [
        "import pandas as pd"
      ],
      "execution_count": 0,
      "outputs": []
    },
    {
      "cell_type": "markdown",
      "metadata": {
        "id": "-yLLBSZKWH-U",
        "colab_type": "text"
      },
      "source": [
        "### krx 사이트에 등록되어 있는 상장사 정보(html) 다운로드 받아 dataframe 객체 생성\n",
        "* krx 상장사 정보 url : http://kind.krx.co.kr/corpgeneral/corpList.do?method=download&searchType=13"
      ]
    },
    {
      "cell_type": "code",
      "metadata": {
        "id": "l4g9sK8KKWQt",
        "colab_type": "code",
        "colab": {}
      },
      "source": [
        "code_df = pd.read_html('http://kind.krx.co.kr/corpgeneral/corpList.do?method=download&searchType=13', header=0)[0]"
      ],
      "execution_count": 0,
      "outputs": []
    },
    {
      "cell_type": "code",
      "metadata": {
        "id": "EYsXEP0gyIYX",
        "colab_type": "code",
        "outputId": "78d5c4e1-4f9b-4659-8fe7-2468f09c106e",
        "colab": {
          "base_uri": "https://localhost:8080/",
          "height": 547
        }
      },
      "source": [
        "code_df.head(5)"
      ],
      "execution_count": 3,
      "outputs": [
        {
          "output_type": "execute_result",
          "data": {
            "text/html": [
              "<div>\n",
              "<style scoped>\n",
              "    .dataframe tbody tr th:only-of-type {\n",
              "        vertical-align: middle;\n",
              "    }\n",
              "\n",
              "    .dataframe tbody tr th {\n",
              "        vertical-align: top;\n",
              "    }\n",
              "\n",
              "    .dataframe thead th {\n",
              "        text-align: right;\n",
              "    }\n",
              "</style>\n",
              "<table border=\"1\" class=\"dataframe\">\n",
              "  <thead>\n",
              "    <tr style=\"text-align: right;\">\n",
              "      <th></th>\n",
              "      <th>회사명</th>\n",
              "      <th>종목코드</th>\n",
              "      <th>업종</th>\n",
              "      <th>주요제품</th>\n",
              "      <th>상장일</th>\n",
              "      <th>결산월</th>\n",
              "      <th>대표자명</th>\n",
              "      <th>홈페이지</th>\n",
              "      <th>지역</th>\n",
              "    </tr>\n",
              "  </thead>\n",
              "  <tbody>\n",
              "    <tr>\n",
              "      <th>0</th>\n",
              "      <td>DSR</td>\n",
              "      <td>155660</td>\n",
              "      <td>1차 비철금속 제조업</td>\n",
              "      <td>합섬섬유로프</td>\n",
              "      <td>2013-05-15</td>\n",
              "      <td>12월</td>\n",
              "      <td>홍석빈</td>\n",
              "      <td>http://www.dsr.com</td>\n",
              "      <td>부산광역시</td>\n",
              "    </tr>\n",
              "    <tr>\n",
              "      <th>1</th>\n",
              "      <td>GS글로벌</td>\n",
              "      <td>1250</td>\n",
              "      <td>상품 종합 도매업</td>\n",
              "      <td>수출입업(시멘트,철강금속,전기전자,섬유,기계화학),상품중개,광업,채석업/하수처리 서...</td>\n",
              "      <td>1976-06-26</td>\n",
              "      <td>12월</td>\n",
              "      <td>김태형</td>\n",
              "      <td>http://www.gsgcorp.com</td>\n",
              "      <td>서울특별시</td>\n",
              "    </tr>\n",
              "    <tr>\n",
              "      <th>2</th>\n",
              "      <td>HSD엔진</td>\n",
              "      <td>82740</td>\n",
              "      <td>일반 목적용 기계 제조업</td>\n",
              "      <td>대형선박용엔진,내연발전엔진</td>\n",
              "      <td>2011-01-04</td>\n",
              "      <td>12월</td>\n",
              "      <td>고영열</td>\n",
              "      <td>http://www.doosanengine.com</td>\n",
              "      <td>경상남도</td>\n",
              "    </tr>\n",
              "    <tr>\n",
              "      <th>3</th>\n",
              "      <td>LG이노텍</td>\n",
              "      <td>11070</td>\n",
              "      <td>전자부품 제조업</td>\n",
              "      <td>기타 전자부품 제조업</td>\n",
              "      <td>2008-07-24</td>\n",
              "      <td>12월</td>\n",
              "      <td>정철동</td>\n",
              "      <td>http://www.lginnotek.co.kr</td>\n",
              "      <td>서울특별시</td>\n",
              "    </tr>\n",
              "    <tr>\n",
              "      <th>4</th>\n",
              "      <td>OCI</td>\n",
              "      <td>10060</td>\n",
              "      <td>기초 화학물질 제조업</td>\n",
              "      <td>타르제품,카본블랙,무수프탈산,농약원제,석탄화학제품,정밀화학제품,플라스틱창호재 제조,판매</td>\n",
              "      <td>1985-07-09</td>\n",
              "      <td>12월</td>\n",
              "      <td>백우석, 이우현, 김택중(3인, 각자 대표이사)</td>\n",
              "      <td>http://www.oci.co.kr</td>\n",
              "      <td>서울특별시</td>\n",
              "    </tr>\n",
              "  </tbody>\n",
              "</table>\n",
              "</div>"
            ],
            "text/plain": [
              "     회사명    종목코드  ...                         홈페이지     지역\n",
              "0    DSR  155660  ...           http://www.dsr.com  부산광역시\n",
              "1  GS글로벌    1250  ...       http://www.gsgcorp.com  서울특별시\n",
              "2  HSD엔진   82740  ...  http://www.doosanengine.com   경상남도\n",
              "3  LG이노텍   11070  ...   http://www.lginnotek.co.kr  서울특별시\n",
              "4    OCI   10060  ...         http://www.oci.co.kr  서울특별시\n",
              "\n",
              "[5 rows x 9 columns]"
            ]
          },
          "metadata": {
            "tags": []
          },
          "execution_count": 3
        }
      ]
    },
    {
      "cell_type": "code",
      "metadata": {
        "id": "gpLyUjEBOAra",
        "colab_type": "code",
        "outputId": "691647fc-25d2-48fb-dd57-28437cf20bd3",
        "colab": {
          "base_uri": "https://localhost:8080/",
          "height": 123
        }
      },
      "source": [
        "code_df['종목코드'].head(5)"
      ],
      "execution_count": 4,
      "outputs": [
        {
          "output_type": "execute_result",
          "data": {
            "text/plain": [
              "0    155660\n",
              "1      1250\n",
              "2     82740\n",
              "3     11070\n",
              "4     10060\n",
              "Name: 종목코드, dtype: int64"
            ]
          },
          "metadata": {
            "tags": []
          },
          "execution_count": 4
        }
      ]
    },
    {
      "cell_type": "markdown",
      "metadata": {
        "id": "zWkg1nRUWavD",
        "colab_type": "text"
      },
      "source": [
        "### Q1. 상장사 정보 중 종목코드를 왼쪽이 '0' 으로 채워진 6자리 값으로 변환하시오"
      ]
    },
    {
      "cell_type": "code",
      "metadata": {
        "id": "_lL5YWPHhP1M",
        "colab_type": "code",
        "colab": {}
      },
      "source": [
        "code_df['종목코드']=code_df['종목코드'].map('{:06d}'.format)"
      ],
      "execution_count": 0,
      "outputs": []
    },
    {
      "cell_type": "code",
      "metadata": {
        "id": "5o9Kqs5kO7bL",
        "colab_type": "code",
        "outputId": "37351464-57a3-4f75-e3e8-fe7e0b85c1c5",
        "colab": {
          "base_uri": "https://localhost:8080/",
          "height": 547
        }
      },
      "source": [
        "code_df.head(5)"
      ],
      "execution_count": 6,
      "outputs": [
        {
          "output_type": "execute_result",
          "data": {
            "text/html": [
              "<div>\n",
              "<style scoped>\n",
              "    .dataframe tbody tr th:only-of-type {\n",
              "        vertical-align: middle;\n",
              "    }\n",
              "\n",
              "    .dataframe tbody tr th {\n",
              "        vertical-align: top;\n",
              "    }\n",
              "\n",
              "    .dataframe thead th {\n",
              "        text-align: right;\n",
              "    }\n",
              "</style>\n",
              "<table border=\"1\" class=\"dataframe\">\n",
              "  <thead>\n",
              "    <tr style=\"text-align: right;\">\n",
              "      <th></th>\n",
              "      <th>회사명</th>\n",
              "      <th>종목코드</th>\n",
              "      <th>업종</th>\n",
              "      <th>주요제품</th>\n",
              "      <th>상장일</th>\n",
              "      <th>결산월</th>\n",
              "      <th>대표자명</th>\n",
              "      <th>홈페이지</th>\n",
              "      <th>지역</th>\n",
              "    </tr>\n",
              "  </thead>\n",
              "  <tbody>\n",
              "    <tr>\n",
              "      <th>0</th>\n",
              "      <td>DSR</td>\n",
              "      <td>155660</td>\n",
              "      <td>1차 비철금속 제조업</td>\n",
              "      <td>합섬섬유로프</td>\n",
              "      <td>2013-05-15</td>\n",
              "      <td>12월</td>\n",
              "      <td>홍석빈</td>\n",
              "      <td>http://www.dsr.com</td>\n",
              "      <td>부산광역시</td>\n",
              "    </tr>\n",
              "    <tr>\n",
              "      <th>1</th>\n",
              "      <td>GS글로벌</td>\n",
              "      <td>001250</td>\n",
              "      <td>상품 종합 도매업</td>\n",
              "      <td>수출입업(시멘트,철강금속,전기전자,섬유,기계화학),상품중개,광업,채석업/하수처리 서...</td>\n",
              "      <td>1976-06-26</td>\n",
              "      <td>12월</td>\n",
              "      <td>김태형</td>\n",
              "      <td>http://www.gsgcorp.com</td>\n",
              "      <td>서울특별시</td>\n",
              "    </tr>\n",
              "    <tr>\n",
              "      <th>2</th>\n",
              "      <td>HSD엔진</td>\n",
              "      <td>082740</td>\n",
              "      <td>일반 목적용 기계 제조업</td>\n",
              "      <td>대형선박용엔진,내연발전엔진</td>\n",
              "      <td>2011-01-04</td>\n",
              "      <td>12월</td>\n",
              "      <td>고영열</td>\n",
              "      <td>http://www.doosanengine.com</td>\n",
              "      <td>경상남도</td>\n",
              "    </tr>\n",
              "    <tr>\n",
              "      <th>3</th>\n",
              "      <td>LG이노텍</td>\n",
              "      <td>011070</td>\n",
              "      <td>전자부품 제조업</td>\n",
              "      <td>기타 전자부품 제조업</td>\n",
              "      <td>2008-07-24</td>\n",
              "      <td>12월</td>\n",
              "      <td>정철동</td>\n",
              "      <td>http://www.lginnotek.co.kr</td>\n",
              "      <td>서울특별시</td>\n",
              "    </tr>\n",
              "    <tr>\n",
              "      <th>4</th>\n",
              "      <td>OCI</td>\n",
              "      <td>010060</td>\n",
              "      <td>기초 화학물질 제조업</td>\n",
              "      <td>타르제품,카본블랙,무수프탈산,농약원제,석탄화학제품,정밀화학제품,플라스틱창호재 제조,판매</td>\n",
              "      <td>1985-07-09</td>\n",
              "      <td>12월</td>\n",
              "      <td>백우석, 이우현, 김택중(3인, 각자 대표이사)</td>\n",
              "      <td>http://www.oci.co.kr</td>\n",
              "      <td>서울특별시</td>\n",
              "    </tr>\n",
              "  </tbody>\n",
              "</table>\n",
              "</div>"
            ],
            "text/plain": [
              "     회사명    종목코드  ...                         홈페이지     지역\n",
              "0    DSR  155660  ...           http://www.dsr.com  부산광역시\n",
              "1  GS글로벌  001250  ...       http://www.gsgcorp.com  서울특별시\n",
              "2  HSD엔진  082740  ...  http://www.doosanengine.com   경상남도\n",
              "3  LG이노텍  011070  ...   http://www.lginnotek.co.kr  서울특별시\n",
              "4    OCI  010060  ...         http://www.oci.co.kr  서울특별시\n",
              "\n",
              "[5 rows x 9 columns]"
            ]
          },
          "metadata": {
            "tags": []
          },
          "execution_count": 6
        }
      ]
    },
    {
      "cell_type": "markdown",
      "metadata": {
        "id": "-3qAvRS0hNIU",
        "colab_type": "text"
      },
      "source": [
        "### Q2. code_df 객체에서 '회사명', '종목코드' 컬러만 선택하여 code_df 객체에 재 할당 하시오."
      ]
    },
    {
      "cell_type": "code",
      "metadata": {
        "id": "ZDLz5ZJehQ2n",
        "colab_type": "code",
        "outputId": "ae4b93cd-400d-4ab9-8256-dce5d1693538",
        "colab": {
          "base_uri": "https://localhost:8080/",
          "height": 406
        }
      },
      "source": [
        "code_df=code_df[['회사명','종목코드']]\n",
        "code_df"
      ],
      "execution_count": 7,
      "outputs": [
        {
          "output_type": "execute_result",
          "data": {
            "text/html": [
              "<div>\n",
              "<style scoped>\n",
              "    .dataframe tbody tr th:only-of-type {\n",
              "        vertical-align: middle;\n",
              "    }\n",
              "\n",
              "    .dataframe tbody tr th {\n",
              "        vertical-align: top;\n",
              "    }\n",
              "\n",
              "    .dataframe thead th {\n",
              "        text-align: right;\n",
              "    }\n",
              "</style>\n",
              "<table border=\"1\" class=\"dataframe\">\n",
              "  <thead>\n",
              "    <tr style=\"text-align: right;\">\n",
              "      <th></th>\n",
              "      <th>회사명</th>\n",
              "      <th>종목코드</th>\n",
              "    </tr>\n",
              "  </thead>\n",
              "  <tbody>\n",
              "    <tr>\n",
              "      <th>0</th>\n",
              "      <td>DSR</td>\n",
              "      <td>155660</td>\n",
              "    </tr>\n",
              "    <tr>\n",
              "      <th>1</th>\n",
              "      <td>GS글로벌</td>\n",
              "      <td>001250</td>\n",
              "    </tr>\n",
              "    <tr>\n",
              "      <th>2</th>\n",
              "      <td>HSD엔진</td>\n",
              "      <td>082740</td>\n",
              "    </tr>\n",
              "    <tr>\n",
              "      <th>3</th>\n",
              "      <td>LG이노텍</td>\n",
              "      <td>011070</td>\n",
              "    </tr>\n",
              "    <tr>\n",
              "      <th>4</th>\n",
              "      <td>OCI</td>\n",
              "      <td>010060</td>\n",
              "    </tr>\n",
              "    <tr>\n",
              "      <th>...</th>\n",
              "      <td>...</td>\n",
              "      <td>...</td>\n",
              "    </tr>\n",
              "    <tr>\n",
              "      <th>2349</th>\n",
              "      <td>지앤이헬스케어</td>\n",
              "      <td>299480</td>\n",
              "    </tr>\n",
              "    <tr>\n",
              "      <th>2350</th>\n",
              "      <td>코셋</td>\n",
              "      <td>189350</td>\n",
              "    </tr>\n",
              "    <tr>\n",
              "      <th>2351</th>\n",
              "      <td>틸론</td>\n",
              "      <td>217880</td>\n",
              "    </tr>\n",
              "    <tr>\n",
              "      <th>2352</th>\n",
              "      <td>판도라티비</td>\n",
              "      <td>202960</td>\n",
              "    </tr>\n",
              "    <tr>\n",
              "      <th>2353</th>\n",
              "      <td>한국미라클피플사</td>\n",
              "      <td>331660</td>\n",
              "    </tr>\n",
              "  </tbody>\n",
              "</table>\n",
              "<p>2354 rows × 2 columns</p>\n",
              "</div>"
            ],
            "text/plain": [
              "           회사명    종목코드\n",
              "0          DSR  155660\n",
              "1        GS글로벌  001250\n",
              "2        HSD엔진  082740\n",
              "3        LG이노텍  011070\n",
              "4          OCI  010060\n",
              "...        ...     ...\n",
              "2349   지앤이헬스케어  299480\n",
              "2350        코셋  189350\n",
              "2351        틸론  217880\n",
              "2352     판도라티비  202960\n",
              "2353  한국미라클피플사  331660\n",
              "\n",
              "[2354 rows x 2 columns]"
            ]
          },
          "metadata": {
            "tags": []
          },
          "execution_count": 7
        }
      ]
    },
    {
      "cell_type": "markdown",
      "metadata": {
        "id": "-F-cy_ogW9yj",
        "colab_type": "text"
      },
      "source": [
        "### Q3. code_df 객체에서 '회사명' , '종목코드' 컬럼의 이름을 각 각 'name', 'code' 로 변경 하시오"
      ]
    },
    {
      "cell_type": "code",
      "metadata": {
        "id": "IjkCiW4mhRfn",
        "colab_type": "code",
        "outputId": "a6efcd14-3567-4598-b2f1-9cbb9f8e6a54",
        "colab": {
          "base_uri": "https://localhost:8080/",
          "height": 406
        }
      },
      "source": [
        "code_df.rename(columns={'회사명':'name','종목코드':'code'},inplace=True)\n",
        "code_df"
      ],
      "execution_count": 8,
      "outputs": [
        {
          "output_type": "execute_result",
          "data": {
            "text/html": [
              "<div>\n",
              "<style scoped>\n",
              "    .dataframe tbody tr th:only-of-type {\n",
              "        vertical-align: middle;\n",
              "    }\n",
              "\n",
              "    .dataframe tbody tr th {\n",
              "        vertical-align: top;\n",
              "    }\n",
              "\n",
              "    .dataframe thead th {\n",
              "        text-align: right;\n",
              "    }\n",
              "</style>\n",
              "<table border=\"1\" class=\"dataframe\">\n",
              "  <thead>\n",
              "    <tr style=\"text-align: right;\">\n",
              "      <th></th>\n",
              "      <th>name</th>\n",
              "      <th>code</th>\n",
              "    </tr>\n",
              "  </thead>\n",
              "  <tbody>\n",
              "    <tr>\n",
              "      <th>0</th>\n",
              "      <td>DSR</td>\n",
              "      <td>155660</td>\n",
              "    </tr>\n",
              "    <tr>\n",
              "      <th>1</th>\n",
              "      <td>GS글로벌</td>\n",
              "      <td>001250</td>\n",
              "    </tr>\n",
              "    <tr>\n",
              "      <th>2</th>\n",
              "      <td>HSD엔진</td>\n",
              "      <td>082740</td>\n",
              "    </tr>\n",
              "    <tr>\n",
              "      <th>3</th>\n",
              "      <td>LG이노텍</td>\n",
              "      <td>011070</td>\n",
              "    </tr>\n",
              "    <tr>\n",
              "      <th>4</th>\n",
              "      <td>OCI</td>\n",
              "      <td>010060</td>\n",
              "    </tr>\n",
              "    <tr>\n",
              "      <th>...</th>\n",
              "      <td>...</td>\n",
              "      <td>...</td>\n",
              "    </tr>\n",
              "    <tr>\n",
              "      <th>2349</th>\n",
              "      <td>지앤이헬스케어</td>\n",
              "      <td>299480</td>\n",
              "    </tr>\n",
              "    <tr>\n",
              "      <th>2350</th>\n",
              "      <td>코셋</td>\n",
              "      <td>189350</td>\n",
              "    </tr>\n",
              "    <tr>\n",
              "      <th>2351</th>\n",
              "      <td>틸론</td>\n",
              "      <td>217880</td>\n",
              "    </tr>\n",
              "    <tr>\n",
              "      <th>2352</th>\n",
              "      <td>판도라티비</td>\n",
              "      <td>202960</td>\n",
              "    </tr>\n",
              "    <tr>\n",
              "      <th>2353</th>\n",
              "      <td>한국미라클피플사</td>\n",
              "      <td>331660</td>\n",
              "    </tr>\n",
              "  </tbody>\n",
              "</table>\n",
              "<p>2354 rows × 2 columns</p>\n",
              "</div>"
            ],
            "text/plain": [
              "          name    code\n",
              "0          DSR  155660\n",
              "1        GS글로벌  001250\n",
              "2        HSD엔진  082740\n",
              "3        LG이노텍  011070\n",
              "4          OCI  010060\n",
              "...        ...     ...\n",
              "2349   지앤이헬스케어  299480\n",
              "2350        코셋  189350\n",
              "2351        틸론  217880\n",
              "2352     판도라티비  202960\n",
              "2353  한국미라클피플사  331660\n",
              "\n",
              "[2354 rows x 2 columns]"
            ]
          },
          "metadata": {
            "tags": []
          },
          "execution_count": 8
        }
      ]
    },
    {
      "cell_type": "markdown",
      "metadata": {
        "id": "s8haX2RWXMkC",
        "colab_type": "text"
      },
      "source": [
        "### Q4. get_url 함수를 정의하시오\n",
        "* 입럭받은 '회사명'(item_name) 정보와 code_df 객체를 이용하여 '상장 코드' 를 이용하여 naver 주식 시세 정보를 검색하는 url을 작성하시오\n",
        "* naver 주식 시세 정보 검색 url : https://finance.naver.com/item/sise_day.nhn?code=`상장 코드`\n",
        "* 작성한 함수를 이용하여 삼성전자 주식 조회를 위한 naver 주식 시세 정보 검색 url 정보를 출력하시오"
      ]
    },
    {
      "cell_type": "code",
      "metadata": {
        "id": "gw1yDVNiU1GO",
        "colab_type": "code",
        "colab": {}
      },
      "source": [
        "def get_url(item_name, code_df):\n",
        "  code=code_df['code'][code_df['name']==item_name].values[0]\n",
        "  url= 'https://finance.naver.com/item/sise_day.nhn?code={}'.format(code)\n",
        "\n",
        "  return url"
      ],
      "execution_count": 0,
      "outputs": []
    },
    {
      "cell_type": "code",
      "metadata": {
        "id": "9QVfxS5ub6Z2",
        "colab_type": "code",
        "colab": {}
      },
      "source": [
        "# 삼성전자 주식 조회 를 위한 naver 주식 시세정보 검색 url 정보 출력\n",
        "url=get_url('삼성전자',code_df)\n",
        "item_name='삼성전자'"
      ],
      "execution_count": 0,
      "outputs": []
    },
    {
      "cell_type": "markdown",
      "metadata": {
        "id": "CZEYDyjIYhHX",
        "colab_type": "text"
      },
      "source": [
        "### url을 이용한 주식시세 정보 호출 및 html 파싱을 위한 bs4 라이브러리 임포트"
      ]
    },
    {
      "cell_type": "code",
      "metadata": {
        "id": "N2xKeqUYgvUh",
        "colab_type": "code",
        "colab": {}
      },
      "source": [
        "import requests\n",
        "from bs4 import BeautifulSoup"
      ],
      "execution_count": 0,
      "outputs": []
    },
    {
      "cell_type": "markdown",
      "metadata": {
        "id": "rS0q3l74Yt0K",
        "colab_type": "text"
      },
      "source": [
        "### Q5. Q4에서 생성한 naver 주식 시세정보 조회 url을 이용하여 200일 간의 삼성전자의 주식 시세 정보를 리스트 객체에 저장하시오\n",
        "* list 의 shape = (200(일수), 7(날짜, 종가, 차액, 시가, 상한, 하한, 거래량))"
      ]
    },
    {
      "cell_type": "code",
      "metadata": {
        "id": "VKMP1kX6fA_b",
        "colab_type": "code",
        "colab": {}
      },
      "source": [
        "import re\n",
        "df = pd.DataFrame()\n",
        "\n",
        "priceList = []\n",
        "\n",
        "for page in range(1, 21):\n",
        "  page_url='{url}&page={page}'.format(url=url,page=page)\n",
        "  \n",
        "  response=requests.get(page_url)\n",
        "  soup=BeautifulSoup(response.content,'lxml')\n",
        "\n",
        "  trList=soup.body.find_all('tr',{'onmouseover':'mouseOver(this)'})\n",
        "  for i in range(0,10):\n",
        "    a=trList[i].find_all(name='span')\n",
        "    List=[]\n",
        "    for j in range(0,len(a)):\n",
        "      ret = re.sub('[-=.#/?:$}\\n\\t]', '', a[j].text)\n",
        "      List.append(ret)\n",
        "    priceList.append(List)\n",
        "\n"
      ],
      "execution_count": 0,
      "outputs": []
    },
    {
      "cell_type": "markdown",
      "metadata": {
        "id": "yAFPZP-lbluH",
        "colab_type": "text"
      },
      "source": [
        "### Q6. priceList 정보를 이용하여 df 이름을 dataframe 객체 생성\n",
        "* 컬럼의 이름은 'date', 'close', 'diff', 'open', 'high', 'low', 'volume' 롤 지정"
      ]
    },
    {
      "cell_type": "code",
      "metadata": {
        "id": "oiGR_hRoh_Ox",
        "colab_type": "code",
        "colab": {}
      },
      "source": [
        "col=[ 'date', 'close', 'diff', 'open', 'high', 'low', 'volume']\n",
        "df=pd.DataFrame(priceList,columns=col)"
      ],
      "execution_count": 0,
      "outputs": []
    },
    {
      "cell_type": "markdown",
      "metadata": {
        "id": "UiBTNuN9b-_m",
        "colab_type": "text"
      },
      "source": [
        "### Q7. df 객체에서 Nan 제거"
      ]
    },
    {
      "cell_type": "code",
      "metadata": {
        "id": "XD-D1PZMho_Q",
        "colab_type": "code",
        "outputId": "12cbce3a-f510-453b-8c02-f7e8eca39b22",
        "colab": {
          "base_uri": "https://localhost:8080/",
          "height": 265
        }
      },
      "source": [
        "df.dropna"
      ],
      "execution_count": 15,
      "outputs": [
        {
          "output_type": "execute_result",
          "data": {
            "text/plain": [
              "<bound method DataFrame.dropna of          date   close   diff    open    high     low      volume\n",
              "0    20200114  60,000      0  60,400  61,000  59,900  16,084,418\n",
              "1    20200113  60,000    500  59,600  60,000  59,100  11,359,139\n",
              "2    20200110  59,500    900  58,800  59,700  58,300  16,000,170\n",
              "3    20200109  58,600  1,800  58,400  58,600  57,400  24,102,579\n",
              "4    20200108  56,800  1,000  56,200  57,400  55,900  23,501,171\n",
              "..        ...     ...    ...     ...     ...     ...         ...\n",
              "195  20190401  45,050    400  45,200  45,450  44,850   7,362,129\n",
              "196  20190329  44,650    200  44,500  44,900  44,200  11,491,713\n",
              "197  20190328  44,850    500  44,950  45,200  44,300   6,821,306\n",
              "198  20190327  45,350    100  44,750  45,600  44,250   9,568,081\n",
              "199  20190326  45,250    250  45,500  45,700  44,900   9,729,811\n",
              "\n",
              "[200 rows x 7 columns]>"
            ]
          },
          "metadata": {
            "tags": []
          },
          "execution_count": 15
        }
      ]
    },
    {
      "cell_type": "markdown",
      "metadata": {
        "id": "eAUYRHkZcT9-",
        "colab_type": "text"
      },
      "source": [
        "### df 객체에 각 원소들의 값이 object로 되어 있기 때문에 분석을 위해 float type으로 "
      ]
    },
    {
      "cell_type": "code",
      "metadata": {
        "colab_type": "code",
        "id": "apJn_Io6cNd3",
        "outputId": "50faba19-0a70-4220-8920-72b0f9c0bf54",
        "colab": {
          "base_uri": "https://localhost:8080/",
          "height": 158
        }
      },
      "source": [
        "# df 객체 내 컬럼들의 데이터 타입 조회(object))\n",
        "df.dtypes"
      ],
      "execution_count": 16,
      "outputs": [
        {
          "output_type": "execute_result",
          "data": {
            "text/plain": [
              "date      object\n",
              "close     object\n",
              "diff      object\n",
              "open      object\n",
              "high      object\n",
              "low       object\n",
              "volume    object\n",
              "dtype: object"
            ]
          },
          "metadata": {
            "tags": []
          },
          "execution_count": 16
        }
      ]
    },
    {
      "cell_type": "code",
      "metadata": {
        "id": "DOIt4XSprdvs",
        "colab_type": "code",
        "colab": {}
      },
      "source": [
        "# 'close', 'diff', 'open', 'high', 'low', 'volume' 의 값들이\n",
        "# 천 단위 표현을 위해 ','(5,000) 사용 하고 있음\n",
        "# 해당 포멧을 숫자로 변환하기 위헤 locale 라이브러리 사용\n",
        "import locale\n",
        "from locale import atof\n",
        "\n",
        "locale.setlocale(locale.LC_NUMERIC, '')\n",
        "\n",
        "# 날짜의 경우 datetime 타입으로 변환\n",
        "df['date'] = pd.to_datetime(df['date'])\n",
        "\n",
        "df[['close', 'diff', 'open', 'high', 'low', 'volume']] = df[['close', 'diff', 'open', 'high', 'low', 'volume']].applymap(atof)\n",
        "df = df.sort_values(by=['date'], ascending=True)"
      ],
      "execution_count": 0,
      "outputs": []
    },
    {
      "cell_type": "code",
      "metadata": {
        "id": "KkwZJeHQK4Z9",
        "colab_type": "code",
        "outputId": "c893dcc2-7e72-444b-fbf1-29f90ed2ab36",
        "colab": {
          "base_uri": "https://localhost:8080/",
          "height": 158
        }
      },
      "source": [
        "# df 객체 들의 변환된 데이터 타입 정보 조회(datetime, float64)\n",
        "df.dtypes"
      ],
      "execution_count": 18,
      "outputs": [
        {
          "output_type": "execute_result",
          "data": {
            "text/plain": [
              "date      datetime64[ns]\n",
              "close            float64\n",
              "diff             float64\n",
              "open             float64\n",
              "high             float64\n",
              "low              float64\n",
              "volume           float64\n",
              "dtype: object"
            ]
          },
          "metadata": {
            "tags": []
          },
          "execution_count": 18
        }
      ]
    },
    {
      "cell_type": "markdown",
      "metadata": {
        "id": "WYSoFYPGf8Sr",
        "colab_type": "text"
      },
      "source": [
        "### 삼성 전자 종가 기준 일별 주가 시계열 차트 조회"
      ]
    },
    {
      "cell_type": "code",
      "metadata": {
        "id": "MbH-8mmQrzUK",
        "colab_type": "code",
        "colab": {}
      },
      "source": [
        "# 시계열 차트 생성을 위한 라이브러리 임포트\n",
        "import plotly.graph_objects as go"
      ],
      "execution_count": 0,
      "outputs": []
    },
    {
      "cell_type": "code",
      "metadata": {
        "id": "8aKU0j7BsEBE",
        "colab_type": "code",
        "colab": {}
      },
      "source": [
        "# 차트 생성을 위한 데이터 생성\n",
        "trace = go.Scatter(x=df['date'],\n",
        "                   y=df['close'],\n",
        "                   name=item_name)\n",
        "\n",
        "data = [trace]"
      ],
      "execution_count": 0,
      "outputs": []
    },
    {
      "cell_type": "code",
      "metadata": {
        "id": "b862Eai5sW8r",
        "colab_type": "code",
        "colab": {}
      },
      "source": [
        "# 시계열 차트의 레이웃 정보 생성\n",
        "layout = dict(\n",
        "    title='{}의 종가(close) Time Series'.format(item_name),\n",
        "    # x축 데이터 타입 지정(date)\n",
        "    xaxis = dict(\n",
        "        rangeslider=dict(),\n",
        "        type='date'\n",
        "        ),\n",
        ")"
      ],
      "execution_count": 0,
      "outputs": []
    },
    {
      "cell_type": "code",
      "metadata": {
        "id": "Zr_sjZBMtCjJ",
        "colab_type": "code",
        "outputId": "0d36701f-83e3-4cb1-aed0-be25f419e73d",
        "colab": {
          "base_uri": "https://localhost:8080/",
          "height": 542
        }
      },
      "source": [
        "# 차트 객체 생성 및 조회\n",
        "fig = go.Figure(data=data, layout=layout)\n",
        "fig.show()"
      ],
      "execution_count": 26,
      "outputs": [
        {
          "output_type": "display_data",
          "data": {
            "text/html": [
              "<html>\n",
              "<head><meta charset=\"utf-8\" /></head>\n",
              "<body>\n",
              "    <div>\n",
              "            <script src=\"https://cdnjs.cloudflare.com/ajax/libs/mathjax/2.7.5/MathJax.js?config=TeX-AMS-MML_SVG\"></script><script type=\"text/javascript\">if (window.MathJax) {MathJax.Hub.Config({SVG: {font: \"STIX-Web\"}});}</script>\n",
              "                <script type=\"text/javascript\">window.PlotlyConfig = {MathJaxConfig: 'local'};</script>\n",
              "        <script src=\"https://cdn.plot.ly/plotly-latest.min.js\"></script>    \n",
              "            <div id=\"2b7b9c2e-3068-45bc-8521-27f89810d0fa\" class=\"plotly-graph-div\" style=\"height:525px; width:100%;\"></div>\n",
              "            <script type=\"text/javascript\">\n",
              "                \n",
              "                    window.PLOTLYENV=window.PLOTLYENV || {};\n",
              "                    \n",
              "                if (document.getElementById(\"2b7b9c2e-3068-45bc-8521-27f89810d0fa\")) {\n",
              "                    Plotly.newPlot(\n",
              "                        '2b7b9c2e-3068-45bc-8521-27f89810d0fa',\n",
              "                        [{\"name\": \"\\uc0bc\\uc131\\uc804\\uc790\", \"type\": \"scatter\", \"x\": [\"2019-03-26T00:00:00\", \"2019-03-27T00:00:00\", \"2019-03-28T00:00:00\", \"2019-03-29T00:00:00\", \"2019-04-01T00:00:00\", \"2019-04-02T00:00:00\", \"2019-04-03T00:00:00\", \"2019-04-04T00:00:00\", \"2019-04-05T00:00:00\", \"2019-04-08T00:00:00\", \"2019-04-09T00:00:00\", \"2019-04-10T00:00:00\", \"2019-04-11T00:00:00\", \"2019-04-12T00:00:00\", \"2019-04-15T00:00:00\", \"2019-04-16T00:00:00\", \"2019-04-17T00:00:00\", \"2019-04-18T00:00:00\", \"2019-04-19T00:00:00\", \"2019-04-22T00:00:00\", \"2019-04-23T00:00:00\", \"2019-04-24T00:00:00\", \"2019-04-25T00:00:00\", \"2019-04-26T00:00:00\", \"2019-04-29T00:00:00\", \"2019-04-30T00:00:00\", \"2019-05-02T00:00:00\", \"2019-05-03T00:00:00\", \"2019-05-07T00:00:00\", \"2019-05-08T00:00:00\", \"2019-05-09T00:00:00\", \"2019-05-10T00:00:00\", \"2019-05-13T00:00:00\", \"2019-05-14T00:00:00\", \"2019-05-15T00:00:00\", \"2019-05-16T00:00:00\", \"2019-05-17T00:00:00\", \"2019-05-20T00:00:00\", \"2019-05-21T00:00:00\", \"2019-05-22T00:00:00\", \"2019-05-23T00:00:00\", \"2019-05-24T00:00:00\", \"2019-05-27T00:00:00\", \"2019-05-28T00:00:00\", \"2019-05-29T00:00:00\", \"2019-05-30T00:00:00\", \"2019-05-31T00:00:00\", \"2019-06-03T00:00:00\", \"2019-06-04T00:00:00\", \"2019-06-05T00:00:00\", \"2019-06-07T00:00:00\", \"2019-06-10T00:00:00\", \"2019-06-11T00:00:00\", \"2019-06-12T00:00:00\", \"2019-06-13T00:00:00\", \"2019-06-14T00:00:00\", \"2019-06-17T00:00:00\", \"2019-06-18T00:00:00\", \"2019-06-19T00:00:00\", \"2019-06-20T00:00:00\", \"2019-06-21T00:00:00\", \"2019-06-24T00:00:00\", \"2019-06-25T00:00:00\", \"2019-06-26T00:00:00\", \"2019-06-27T00:00:00\", \"2019-06-28T00:00:00\", \"2019-07-01T00:00:00\", \"2019-07-02T00:00:00\", \"2019-07-03T00:00:00\", \"2019-07-04T00:00:00\", \"2019-07-05T00:00:00\", \"2019-07-08T00:00:00\", \"2019-07-09T00:00:00\", \"2019-07-10T00:00:00\", \"2019-07-11T00:00:00\", \"2019-07-12T00:00:00\", \"2019-07-15T00:00:00\", \"2019-07-16T00:00:00\", \"2019-07-17T00:00:00\", \"2019-07-18T00:00:00\", \"2019-07-19T00:00:00\", \"2019-07-22T00:00:00\", \"2019-07-23T00:00:00\", \"2019-07-24T00:00:00\", \"2019-07-25T00:00:00\", \"2019-07-26T00:00:00\", \"2019-07-29T00:00:00\", \"2019-07-30T00:00:00\", \"2019-07-31T00:00:00\", \"2019-08-01T00:00:00\", \"2019-08-02T00:00:00\", \"2019-08-05T00:00:00\", \"2019-08-06T00:00:00\", \"2019-08-07T00:00:00\", \"2019-08-08T00:00:00\", \"2019-08-09T00:00:00\", \"2019-08-12T00:00:00\", \"2019-08-13T00:00:00\", \"2019-08-14T00:00:00\", \"2019-08-16T00:00:00\", \"2019-08-19T00:00:00\", \"2019-08-20T00:00:00\", \"2019-08-21T00:00:00\", \"2019-08-22T00:00:00\", \"2019-08-23T00:00:00\", \"2019-08-26T00:00:00\", \"2019-08-27T00:00:00\", \"2019-08-28T00:00:00\", \"2019-08-29T00:00:00\", \"2019-08-30T00:00:00\", \"2019-09-02T00:00:00\", \"2019-09-03T00:00:00\", \"2019-09-04T00:00:00\", \"2019-09-05T00:00:00\", \"2019-09-06T00:00:00\", \"2019-09-09T00:00:00\", \"2019-09-10T00:00:00\", \"2019-09-11T00:00:00\", \"2019-09-16T00:00:00\", \"2019-09-17T00:00:00\", \"2019-09-18T00:00:00\", \"2019-09-19T00:00:00\", \"2019-09-20T00:00:00\", \"2019-09-23T00:00:00\", \"2019-09-24T00:00:00\", \"2019-09-25T00:00:00\", \"2019-09-26T00:00:00\", \"2019-09-27T00:00:00\", \"2019-09-30T00:00:00\", \"2019-10-01T00:00:00\", \"2019-10-02T00:00:00\", \"2019-10-04T00:00:00\", \"2019-10-07T00:00:00\", \"2019-10-08T00:00:00\", \"2019-10-10T00:00:00\", \"2019-10-11T00:00:00\", \"2019-10-14T00:00:00\", \"2019-10-15T00:00:00\", \"2019-10-16T00:00:00\", \"2019-10-17T00:00:00\", \"2019-10-18T00:00:00\", \"2019-10-21T00:00:00\", \"2019-10-22T00:00:00\", \"2019-10-23T00:00:00\", \"2019-10-24T00:00:00\", \"2019-10-25T00:00:00\", \"2019-10-28T00:00:00\", \"2019-10-29T00:00:00\", \"2019-10-30T00:00:00\", \"2019-10-31T00:00:00\", \"2019-11-01T00:00:00\", \"2019-11-04T00:00:00\", \"2019-11-05T00:00:00\", \"2019-11-06T00:00:00\", \"2019-11-07T00:00:00\", \"2019-11-08T00:00:00\", \"2019-11-11T00:00:00\", \"2019-11-12T00:00:00\", \"2019-11-13T00:00:00\", \"2019-11-14T00:00:00\", \"2019-11-15T00:00:00\", \"2019-11-18T00:00:00\", \"2019-11-19T00:00:00\", \"2019-11-20T00:00:00\", \"2019-11-21T00:00:00\", \"2019-11-22T00:00:00\", \"2019-11-25T00:00:00\", \"2019-11-26T00:00:00\", \"2019-11-27T00:00:00\", \"2019-11-28T00:00:00\", \"2019-11-29T00:00:00\", \"2019-12-02T00:00:00\", \"2019-12-03T00:00:00\", \"2019-12-04T00:00:00\", \"2019-12-05T00:00:00\", \"2019-12-06T00:00:00\", \"2019-12-09T00:00:00\", \"2019-12-10T00:00:00\", \"2019-12-11T00:00:00\", \"2019-12-12T00:00:00\", \"2019-12-13T00:00:00\", \"2019-12-16T00:00:00\", \"2019-12-17T00:00:00\", \"2019-12-18T00:00:00\", \"2019-12-19T00:00:00\", \"2019-12-20T00:00:00\", \"2019-12-23T00:00:00\", \"2019-12-24T00:00:00\", \"2019-12-26T00:00:00\", \"2019-12-27T00:00:00\", \"2019-12-30T00:00:00\", \"2020-01-02T00:00:00\", \"2020-01-03T00:00:00\", \"2020-01-06T00:00:00\", \"2020-01-07T00:00:00\", \"2020-01-08T00:00:00\", \"2020-01-09T00:00:00\", \"2020-01-10T00:00:00\", \"2020-01-13T00:00:00\", \"2020-01-14T00:00:00\"], \"y\": [45250.0, 45350.0, 44850.0, 44650.0, 45050.0, 45750.0, 46600.0, 46950.0, 46850.0, 46650.0, 46650.0, 46700.0, 46250.0, 46850.0, 47050.0, 47250.0, 47050.0, 45600.0, 45300.0, 45350.0, 45200.0, 44750.0, 44650.0, 44850.0, 46150.0, 45850.0, 45900.0, 45300.0, 44850.0, 44250.0, 42450.0, 42900.0, 42650.0, 42650.0, 42550.0, 41550.0, 41200.0, 42000.0, 43150.0, 43500.0, 43850.0, 42700.0, 42650.0, 42550.0, 41800.0, 42550.0, 42500.0, 43800.0, 43450.0, 43900.0, 44200.0, 44800.0, 44850.0, 44600.0, 43750.0, 44000.0, 43900.0, 44350.0, 45350.0, 45500.0, 45700.0, 45500.0, 45600.0, 45700.0, 46500.0, 47000.0, 46600.0, 46250.0, 45400.0, 46000.0, 45650.0, 44400.0, 45100.0, 45550.0, 46200.0, 46300.0, 46450.0, 46850.0, 46050.0, 46100.0, 46800.0, 47200.0, 47300.0, 46400.0, 47200.0, 47150.0, 46100.0, 46550.0, 45350.0, 45200.0, 44950.0, 43950.0, 43500.0, 43200.0, 42650.0, 43150.0, 43700.0, 43000.0, 43700.0, 43900.0, 43600.0, 44450.0, 44500.0, 44050.0, 43950.0, 43600.0, 44050.0, 44150.0, 43400.0, 44000.0, 43800.0, 43250.0, 44100.0, 45700.0, 46300.0, 46900.0, 47000.0, 47150.0, 47100.0, 46900.0, 47700.0, 49150.0, 49200.0, 49300.0, 49500.0, 48900.0, 49200.0, 48400.0, 49050.0, 48850.0, 47600.0, 48000.0, 47750.0, 48900.0, 48550.0, 49150.0, 50000.0, 50100.0, 50700.0, 50500.0, 49900.0, 50300.0, 51200.0, 51200.0, 50700.0, 50900.0, 51300.0, 51100.0, 50400.0, 50400.0, 51200.0, 52300.0, 52700.0, 53300.0, 52900.0, 52100.0, 51600.0, 52600.0, 52500.0, 52800.0, 53700.0, 53500.0, 53500.0, 52000.0, 51000.0, 51600.0, 51800.0, 51800.0, 52200.0, 51300.0, 50300.0, 50400.0, 49900.0, 49450.0, 49500.0, 50400.0, 51200.0, 51500.0, 51900.0, 53300.0, 54700.0, 54700.0, 56700.0, 56300.0, 56000.0, 56000.0, 55500.0, 55000.0, 55400.0, 56500.0, 55800.0, 55200.0, 55500.0, 55500.0, 55800.0, 56800.0, 58600.0, 59500.0, 60000.0, 60000.0]}],\n",
              "                        {\"template\": {\"data\": {\"bar\": [{\"error_x\": {\"color\": \"#2a3f5f\"}, \"error_y\": {\"color\": \"#2a3f5f\"}, \"marker\": {\"line\": {\"color\": \"#E5ECF6\", \"width\": 0.5}}, \"type\": \"bar\"}], \"barpolar\": [{\"marker\": {\"line\": {\"color\": \"#E5ECF6\", \"width\": 0.5}}, \"type\": \"barpolar\"}], \"carpet\": [{\"aaxis\": {\"endlinecolor\": \"#2a3f5f\", \"gridcolor\": \"white\", \"linecolor\": \"white\", \"minorgridcolor\": \"white\", \"startlinecolor\": \"#2a3f5f\"}, \"baxis\": {\"endlinecolor\": \"#2a3f5f\", \"gridcolor\": \"white\", \"linecolor\": \"white\", \"minorgridcolor\": \"white\", \"startlinecolor\": \"#2a3f5f\"}, \"type\": \"carpet\"}], \"choropleth\": [{\"colorbar\": {\"outlinewidth\": 0, \"ticks\": \"\"}, \"type\": \"choropleth\"}], \"contour\": [{\"colorbar\": {\"outlinewidth\": 0, \"ticks\": \"\"}, \"colorscale\": [[0.0, \"#0d0887\"], [0.1111111111111111, \"#46039f\"], [0.2222222222222222, \"#7201a8\"], [0.3333333333333333, \"#9c179e\"], [0.4444444444444444, \"#bd3786\"], [0.5555555555555556, \"#d8576b\"], [0.6666666666666666, \"#ed7953\"], [0.7777777777777778, \"#fb9f3a\"], [0.8888888888888888, \"#fdca26\"], [1.0, \"#f0f921\"]], \"type\": \"contour\"}], \"contourcarpet\": [{\"colorbar\": {\"outlinewidth\": 0, \"ticks\": \"\"}, \"type\": \"contourcarpet\"}], \"heatmap\": [{\"colorbar\": {\"outlinewidth\": 0, \"ticks\": \"\"}, \"colorscale\": [[0.0, \"#0d0887\"], [0.1111111111111111, \"#46039f\"], [0.2222222222222222, \"#7201a8\"], [0.3333333333333333, \"#9c179e\"], [0.4444444444444444, \"#bd3786\"], [0.5555555555555556, \"#d8576b\"], [0.6666666666666666, \"#ed7953\"], [0.7777777777777778, \"#fb9f3a\"], [0.8888888888888888, \"#fdca26\"], [1.0, \"#f0f921\"]], \"type\": \"heatmap\"}], \"heatmapgl\": [{\"colorbar\": {\"outlinewidth\": 0, \"ticks\": \"\"}, \"colorscale\": [[0.0, \"#0d0887\"], [0.1111111111111111, \"#46039f\"], [0.2222222222222222, \"#7201a8\"], [0.3333333333333333, \"#9c179e\"], [0.4444444444444444, \"#bd3786\"], [0.5555555555555556, \"#d8576b\"], [0.6666666666666666, \"#ed7953\"], [0.7777777777777778, \"#fb9f3a\"], [0.8888888888888888, \"#fdca26\"], [1.0, \"#f0f921\"]], \"type\": \"heatmapgl\"}], \"histogram\": [{\"marker\": {\"colorbar\": {\"outlinewidth\": 0, \"ticks\": \"\"}}, \"type\": \"histogram\"}], \"histogram2d\": [{\"colorbar\": {\"outlinewidth\": 0, \"ticks\": \"\"}, \"colorscale\": [[0.0, \"#0d0887\"], [0.1111111111111111, \"#46039f\"], [0.2222222222222222, \"#7201a8\"], [0.3333333333333333, \"#9c179e\"], [0.4444444444444444, \"#bd3786\"], [0.5555555555555556, \"#d8576b\"], [0.6666666666666666, \"#ed7953\"], [0.7777777777777778, \"#fb9f3a\"], [0.8888888888888888, \"#fdca26\"], [1.0, \"#f0f921\"]], \"type\": \"histogram2d\"}], \"histogram2dcontour\": [{\"colorbar\": {\"outlinewidth\": 0, \"ticks\": \"\"}, \"colorscale\": [[0.0, \"#0d0887\"], [0.1111111111111111, \"#46039f\"], [0.2222222222222222, \"#7201a8\"], [0.3333333333333333, \"#9c179e\"], [0.4444444444444444, \"#bd3786\"], [0.5555555555555556, \"#d8576b\"], [0.6666666666666666, \"#ed7953\"], [0.7777777777777778, \"#fb9f3a\"], [0.8888888888888888, \"#fdca26\"], [1.0, \"#f0f921\"]], \"type\": \"histogram2dcontour\"}], \"mesh3d\": [{\"colorbar\": {\"outlinewidth\": 0, \"ticks\": \"\"}, \"type\": \"mesh3d\"}], \"parcoords\": [{\"line\": {\"colorbar\": {\"outlinewidth\": 0, \"ticks\": \"\"}}, \"type\": \"parcoords\"}], \"pie\": [{\"automargin\": true, \"type\": \"pie\"}], \"scatter\": [{\"marker\": {\"colorbar\": {\"outlinewidth\": 0, \"ticks\": \"\"}}, \"type\": \"scatter\"}], \"scatter3d\": [{\"line\": {\"colorbar\": {\"outlinewidth\": 0, \"ticks\": \"\"}}, \"marker\": {\"colorbar\": {\"outlinewidth\": 0, \"ticks\": \"\"}}, \"type\": \"scatter3d\"}], \"scattercarpet\": [{\"marker\": {\"colorbar\": {\"outlinewidth\": 0, \"ticks\": \"\"}}, \"type\": \"scattercarpet\"}], \"scattergeo\": [{\"marker\": {\"colorbar\": {\"outlinewidth\": 0, \"ticks\": \"\"}}, \"type\": \"scattergeo\"}], \"scattergl\": [{\"marker\": {\"colorbar\": {\"outlinewidth\": 0, \"ticks\": \"\"}}, \"type\": \"scattergl\"}], \"scattermapbox\": [{\"marker\": {\"colorbar\": {\"outlinewidth\": 0, \"ticks\": \"\"}}, \"type\": \"scattermapbox\"}], \"scatterpolar\": [{\"marker\": {\"colorbar\": {\"outlinewidth\": 0, \"ticks\": \"\"}}, \"type\": \"scatterpolar\"}], \"scatterpolargl\": [{\"marker\": {\"colorbar\": {\"outlinewidth\": 0, \"ticks\": \"\"}}, \"type\": \"scatterpolargl\"}], \"scatterternary\": [{\"marker\": {\"colorbar\": {\"outlinewidth\": 0, \"ticks\": \"\"}}, \"type\": \"scatterternary\"}], \"surface\": [{\"colorbar\": {\"outlinewidth\": 0, \"ticks\": \"\"}, \"colorscale\": [[0.0, \"#0d0887\"], [0.1111111111111111, \"#46039f\"], [0.2222222222222222, \"#7201a8\"], [0.3333333333333333, \"#9c179e\"], [0.4444444444444444, \"#bd3786\"], [0.5555555555555556, \"#d8576b\"], [0.6666666666666666, \"#ed7953\"], [0.7777777777777778, \"#fb9f3a\"], [0.8888888888888888, \"#fdca26\"], [1.0, \"#f0f921\"]], \"type\": \"surface\"}], \"table\": [{\"cells\": {\"fill\": {\"color\": \"#EBF0F8\"}, \"line\": {\"color\": \"white\"}}, \"header\": {\"fill\": {\"color\": \"#C8D4E3\"}, \"line\": {\"color\": \"white\"}}, \"type\": \"table\"}]}, \"layout\": {\"annotationdefaults\": {\"arrowcolor\": \"#2a3f5f\", \"arrowhead\": 0, \"arrowwidth\": 1}, \"coloraxis\": {\"colorbar\": {\"outlinewidth\": 0, \"ticks\": \"\"}}, \"colorscale\": {\"diverging\": [[0, \"#8e0152\"], [0.1, \"#c51b7d\"], [0.2, \"#de77ae\"], [0.3, \"#f1b6da\"], [0.4, \"#fde0ef\"], [0.5, \"#f7f7f7\"], [0.6, \"#e6f5d0\"], [0.7, \"#b8e186\"], [0.8, \"#7fbc41\"], [0.9, \"#4d9221\"], [1, \"#276419\"]], \"sequential\": [[0.0, \"#0d0887\"], [0.1111111111111111, \"#46039f\"], [0.2222222222222222, \"#7201a8\"], [0.3333333333333333, \"#9c179e\"], [0.4444444444444444, \"#bd3786\"], [0.5555555555555556, \"#d8576b\"], [0.6666666666666666, \"#ed7953\"], [0.7777777777777778, \"#fb9f3a\"], [0.8888888888888888, \"#fdca26\"], [1.0, \"#f0f921\"]], \"sequentialminus\": [[0.0, \"#0d0887\"], [0.1111111111111111, \"#46039f\"], [0.2222222222222222, \"#7201a8\"], [0.3333333333333333, \"#9c179e\"], [0.4444444444444444, \"#bd3786\"], [0.5555555555555556, \"#d8576b\"], [0.6666666666666666, \"#ed7953\"], [0.7777777777777778, \"#fb9f3a\"], [0.8888888888888888, \"#fdca26\"], [1.0, \"#f0f921\"]]}, \"colorway\": [\"#636efa\", \"#EF553B\", \"#00cc96\", \"#ab63fa\", \"#FFA15A\", \"#19d3f3\", \"#FF6692\", \"#B6E880\", \"#FF97FF\", \"#FECB52\"], \"font\": {\"color\": \"#2a3f5f\"}, \"geo\": {\"bgcolor\": \"white\", \"lakecolor\": \"white\", \"landcolor\": \"#E5ECF6\", \"showlakes\": true, \"showland\": true, \"subunitcolor\": \"white\"}, \"hoverlabel\": {\"align\": \"left\"}, \"hovermode\": \"closest\", \"mapbox\": {\"style\": \"light\"}, \"paper_bgcolor\": \"white\", \"plot_bgcolor\": \"#E5ECF6\", \"polar\": {\"angularaxis\": {\"gridcolor\": \"white\", \"linecolor\": \"white\", \"ticks\": \"\"}, \"bgcolor\": \"#E5ECF6\", \"radialaxis\": {\"gridcolor\": \"white\", \"linecolor\": \"white\", \"ticks\": \"\"}}, \"scene\": {\"xaxis\": {\"backgroundcolor\": \"#E5ECF6\", \"gridcolor\": \"white\", \"gridwidth\": 2, \"linecolor\": \"white\", \"showbackground\": true, \"ticks\": \"\", \"zerolinecolor\": \"white\"}, \"yaxis\": {\"backgroundcolor\": \"#E5ECF6\", \"gridcolor\": \"white\", \"gridwidth\": 2, \"linecolor\": \"white\", \"showbackground\": true, \"ticks\": \"\", \"zerolinecolor\": \"white\"}, \"zaxis\": {\"backgroundcolor\": \"#E5ECF6\", \"gridcolor\": \"white\", \"gridwidth\": 2, \"linecolor\": \"white\", \"showbackground\": true, \"ticks\": \"\", \"zerolinecolor\": \"white\"}}, \"shapedefaults\": {\"line\": {\"color\": \"#2a3f5f\"}}, \"ternary\": {\"aaxis\": {\"gridcolor\": \"white\", \"linecolor\": \"white\", \"ticks\": \"\"}, \"baxis\": {\"gridcolor\": \"white\", \"linecolor\": \"white\", \"ticks\": \"\"}, \"bgcolor\": \"#E5ECF6\", \"caxis\": {\"gridcolor\": \"white\", \"linecolor\": \"white\", \"ticks\": \"\"}}, \"title\": {\"x\": 0.05}, \"xaxis\": {\"automargin\": true, \"gridcolor\": \"white\", \"linecolor\": \"white\", \"ticks\": \"\", \"title\": {\"standoff\": 15}, \"zerolinecolor\": \"white\", \"zerolinewidth\": 2}, \"yaxis\": {\"automargin\": true, \"gridcolor\": \"white\", \"linecolor\": \"white\", \"ticks\": \"\", \"title\": {\"standoff\": 15}, \"zerolinecolor\": \"white\", \"zerolinewidth\": 2}}}, \"title\": {\"text\": \"\\uc0bc\\uc131\\uc804\\uc790\\uc758 \\uc885\\uac00(close) Time Series\"}, \"xaxis\": {\"type\": \"date\"}},\n",
              "                        {\"responsive\": true}\n",
              "                    ).then(function(){\n",
              "                            \n",
              "var gd = document.getElementById('2b7b9c2e-3068-45bc-8521-27f89810d0fa');\n",
              "var x = new MutationObserver(function (mutations, observer) {{\n",
              "        var display = window.getComputedStyle(gd).display;\n",
              "        if (!display || display === 'none') {{\n",
              "            console.log([gd, 'removed!']);\n",
              "            Plotly.purge(gd);\n",
              "            observer.disconnect();\n",
              "        }}\n",
              "}});\n",
              "\n",
              "// Listen for the removal of the full notebook cells\n",
              "var notebookContainer = gd.closest('#notebook-container');\n",
              "if (notebookContainer) {{\n",
              "    x.observe(notebookContainer, {childList: true});\n",
              "}}\n",
              "\n",
              "// Listen for the clearing of the current output cell\n",
              "var outputEl = gd.closest('.output');\n",
              "if (outputEl) {{\n",
              "    x.observe(outputEl, {childList: true});\n",
              "}}\n",
              "\n",
              "                        })\n",
              "                };\n",
              "                \n",
              "            </script>\n",
              "        </div>\n",
              "</body>\n",
              "</html>"
            ]
          },
          "metadata": {
            "tags": []
          }
        }
      ]
    },
    {
      "cell_type": "code",
      "metadata": {
        "id": "z3XsLQgWi2MT",
        "colab_type": "code",
        "colab": {}
      },
      "source": [
        ""
      ],
      "execution_count": 0,
      "outputs": []
    }
  ]
}